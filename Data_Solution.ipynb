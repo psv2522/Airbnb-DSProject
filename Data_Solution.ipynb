{
  "nbformat": 4,
  "nbformat_minor": 0,
  "metadata": {
    "colab": {
      "provenance": []
    },
    "kernelspec": {
      "name": "python3",
      "display_name": "Python 3"
    },
    "language_info": {
      "name": "python"
    }
  },
  "cells": [
    {
      "cell_type": "code",
      "execution_count": null,
      "metadata": {
        "colab": {
          "base_uri": "https://localhost:8080/"
        },
        "id": "TOSSlarZluc1",
        "outputId": "c18d86a1-c1ee-476d-ff06-d898b8db1903"
      },
      "outputs": [
        {
          "output_type": "stream",
          "name": "stdout",
          "text": [
            "Drive already mounted at /content/gdrive; to attempt to forcibly remount, call drive.mount(\"/content/gdrive\", force_remount=True).\n"
          ]
        },
        {
          "output_type": "stream",
          "name": "stderr",
          "text": [
            "<ipython-input-32-6e05720a7a99>:5: DtypeWarning: Columns (68) have mixed types. Specify dtype option on import or set low_memory=False.\n",
            "  data = pd.read_csv(\"/content/gdrive/My Drive/listings.csv\")\n"
          ]
        }
      ],
      "source": [
        "import pandas as pd\n",
        "import numpy as np\n",
        "from google.colab import drive\n",
        "drive.mount(\"/content/gdrive\")\n",
        "data = pd.read_csv(\"/content/gdrive/My Drive/listings.csv\")"
      ]
    },
    {
      "cell_type": "code",
      "source": [
        "import nltk\n",
        "from nltk.corpus import stopwords\n",
        "nltk.download('stopwords')\n",
        "nltk.download('punkt')\n",
        "nltk.download('wordnet')\n",
        "nltk.download('omw-1.4')\n",
        "import re"
      ],
      "metadata": {
        "colab": {
          "base_uri": "https://localhost:8080/"
        },
        "id": "ZNg-lpm1sYdN",
        "outputId": "3c2f2db0-3342-44df-cb22-30f0031db8b1"
      },
      "execution_count": null,
      "outputs": [
        {
          "output_type": "stream",
          "name": "stderr",
          "text": [
            "[nltk_data] Downloading package stopwords to /root/nltk_data...\n",
            "[nltk_data]   Package stopwords is already up-to-date!\n",
            "[nltk_data] Downloading package punkt to /root/nltk_data...\n",
            "[nltk_data]   Package punkt is already up-to-date!\n",
            "[nltk_data] Downloading package wordnet to /root/nltk_data...\n",
            "[nltk_data]   Package wordnet is already up-to-date!\n",
            "[nltk_data] Downloading package omw-1.4 to /root/nltk_data...\n",
            "[nltk_data]   Package omw-1.4 is already up-to-date!\n"
          ]
        }
      ]
    },
    {
      "cell_type": "code",
      "source": [
        "amenitiesDF = data[['amenities','price',]]\n",
        "amenitiesDFTopper = amenitiesDF.sort_values('price',ascending=[0])\n",
        "amenitiesDFtop=amenitiesDFTopper.head(2000)\n",
        "allemenities = ''\n",
        "for index,row in amenitiesDFtop.iterrows():\n",
        "    p = re.sub('[^a-zA-Z]+',' ', row['amenities'])\n",
        "    allemenities+=p\n",
        "allemenities_data= nltk.word_tokenize(allemenities)\n",
        "filtered_data=[word for word in allemenities_data if word not in stopwords.words('english')] \n",
        "wnl = nltk.WordNetLemmatizer() \n",
        "allemenities_data=[wnl.lemmatize(data) for data in filtered_data]\n",
        "allemenities_words=' '.join(allemenities_data)\n",
        "x = []\n",
        "y = []\n",
        "for i in allemenities_data:\n",
        "  if(i not in x):\n",
        "    x.append(i)\n",
        "    y.append(allemenities_data.count(i))\n",
        "\n",
        "new_y, new_x = zip(*sorted(zip(y,x),reverse=True))\n",
        "print(new_x,new_y)"
      ],
      "metadata": {
        "colab": {
          "base_uri": "https://localhost:8080/"
        },
        "id": "pfV6-HhhmEzm",
        "outputId": "196b79c8-881a-4a8e-f748-41656dec29af"
      },
      "execution_count": null,
      "outputs": [
        {
          "output_type": "stream",
          "name": "stdout",
          "text": [
            "('alarm', 'allowed', 'Wifi', 'Smoke', 'term', 'stay', 'Long', 'Kitchen', 'Essentials', 'Hot', 'water', 'monoxide', 'Carbon', 'conditioning', 'parking', 'Heating', 'TV', 'Hangers', 'dryer', 'Air', 'Free', 'Hair', 'Iron', 'Shampoo', 'silverware', 'Dishes', 'Refrigerator', 'basic', 'Cooking', 'Microwave', 'Fire', 'maker', 'extinguisher', 'street', 'linen', 'Bed', 'Coffee', 'kit', 'aid', 'First', 'workspace', 'Dedicated', 'Stove', 'Private', 'Oven', 'door', 'bedroom', 'Lock', 'premise', 'pillow', 'blanket', 'Extra', 'Cleaning', 'u', 'Washer', 'property', 'camera', 'Security', 'entrance', 'product', 'dropoff', 'Luggage', 'Dryer', 'storage', 'Clothing', 'soap', 'Bathtub', 'Paid', 'Freezer', 'table', 'nearby', 'Laundromat', 'Dining', 'gel', 'Shower', 'unit', 'Elevator', 'Lockbox', 'Body', 'closet', 'kettle', 'Window', 'shade', 'darkening', 'Room', 'cable', 'glass', 'Wine', 'fan', 'Conditioner', 'standard', 'Cable', 'Toaster', 'In', 'greets', 'Host', 'Dishwasher', 'AC', 'Portable', 'heating', 'Outdoor', 'HDTV', 'Central', 'balcony', 'sheet', 'Baking', 'stove', 'steel', 'connection', 'Ethernet', 'Netflix', 'building', 'dresser', 'Shared', 'grill', 'Stainless', 'BBQ', 'patio', 'washer', 'fridge', 'Mini', 'garden', 'backyard', 'area', 'Keypad', 'furniture', 'dining', 'wifi', 'oven', 'system', 'level', 'home', 'Single', 'coffee', 'body', 'air', 'Children', 'Gym', 'Backyard', 'Ceiling', 'Breakfast', 'guard', 'checkout', 'Mbps', 'fenced', 'Radiant', 'Fast', 'Video', 'Safe', 'Prime', 'Amazon', 'machine', 'Patio', 'rack', 'clothing', 'Drying', 'game', 'Board', 'conditioner', 'lock', 'Smart', 'fireplace', 'Roku', 'Indoor', 'Keurig', 'Rice', 'toy', 'book', 'Gas', 'shampoo', 'tub', 'Travel', 'play', 'n', 'crib', 'Pack', 'Dove', 'garage', 'Max', 'HBO', 'wardrobe', 'utensil', 'Barbecue', 'type', 'compactor', 'Trash', 'split', 'ductless', 'Bidet', 'refrigerator', 'staff', 'gas', 'Crib', 'Building', 'dinnerware', 'walk', 'Pour', 'Apple', 'recommendation', 'Bluetooth', 'Babysitter', 'net', 'Mosquito', 'sound', 'chair', 'High', 'lot', 'heater', 'Sound', 'Baby', 'pit', 'stainless', 'console', 'Game', 'cover', 'Outlet', 'Electric', 'Waterfront', 'Pocket', 'year', 'available', 'Pool', 'Piano', 'Bikes', 'space', 'old', 'premium', 'Nespresso', 'Chromecast', 'charger', 'aux', 'EV', 'essential', 'Beach', 'pool', 'player', 'gym', 'electric', 'upon', 'safety', 'request', 'gate', 'Record', 'hot', 'bath', 'Pantene', 'GE', 'Local', 'Bread', 'driveway', 'age', 'access', 'Lake', 'Whirlpool', 'Various', 'Kenmore', 'Frigidaire', 'Changing', 'Fireplace', 'Bose', 'monitor', 'Samsung', 'shower', 'corner', 'Table', 'PS', 'Kelly', 'Irish', 'Bergman', 'valet', 'specific', 'open', 'hour', 'Xbox', 'Tea', 'Spring', 'Natural', 'Miele', 'Dr', 'Beachfront', 'pong', 'Ping', 'Dial', 'wash', 'Yes', 'Vo', 'Suave', 'Sonos', 'Rituals', 'Pure', 'Induction', 'DOVE', 'Alexa', 'Aesop', 'sauna', 'good', 'e', 'brand', 'Varies', 'Treseme', 'Terra', 'Soap', 'Small', 'Size', 'Select', 'Regular', 'Public', 'Popular', 'Pm', 'One', 'ON', 'None', 'Nintendo', 'NON', 'Meyer', 'Liquid', 'Kiehl', 'Johnson', 'Green', 'General', 'Eco', 'Earth', 'Conscious', 'Aveeno', 'Antibacterial', 'Alternative', 'All', 'AG', 'vitamin', 'tv', 'tree', 'similar', 'seasonally', 'safe', 'listing', 'carport', 'c', 'always', 'al', 'X', 'Woods', 'VO', 'TBD', 'Switch', 'Spotify', 'Similar', 'Shoulders', 'Series', 'Sauna', 'SON', 'Radio', 'Pro', 'Or', 'Olay', 'LG', 'L', 'Kiel', 'J', 'Hotel', 'Healthy', 'Head', 'Glossing', 'Fructis', 'Fridgidaire', 'Color', 'Collection', 'Care', 'Brilliant', 'Brands', 'Brand', 'B', 'Assie', 'Amana', 'Advanced', 'wats', 'varies', 'udd', 'ud', 'two', 'tooth', 'tesla', 'sun', 'sulfate', 'sugar', 'stovetop', 'spring', 'speaker', 'snack', 'sized', 'shaving', 'shared', 'share', 'scented', 'residential', 'plate', 'personal', 'peach', 'particular', 'paraben', 'outdoor', 'olympic', 'oil', 'made', 'lounger', 'lotion', 'lap', 'kitchen', 'induction', 'indoor', 'hotel', 'heated', 'guest', 'fryer', 'free', 'drink', 'det', 'cooker', 'common', 'cold', 'burner', 'bromers', 'bring', 'blue', 'argan', 'ZERO', 'Your', 'YouTube', 'Wii', 'Whole', 'Wave', 'Wash', 'WHirlpool', 'WASH', 'Vizio', 'Viking', 'V', 'Type', 'True', 'Tresemme', 'Tree', 'TRESemme', 'Surfactants', 'Sulfate', 'Strong', 'Steel', 'Standard', 'SoundBar', 'Silkience', 'Shine', 'Shea', 'Share', 'Self', 'Scent', 'Scalp', 'SUB', 'SHAMPOO', 'SABON', 'Rinse', 'Rem', 'Power', 'Polk', 'Please', 'Pioneer', 'Paykel', 'Paraben', 'Palmolive', 'Original', 'Organic', 'Oley', 'OGX', 'Nourishing', 'Ninja', 'Neutrogena', 'NATIVE', 'NA', 'Mrs', 'Moisturizing', 'Moisture', 'Milk', 'Mild', 'Meyers', 'Marshall', 'Marantz', 'Le', 'Large', 'Kitchenware', 'Kirkland', 'JVC', 'JBL', 'Ivory', 'It', 'Hv', 'Hotpoint', 'Hotplate', 'Honeywell', 'Headandshoulderls', 'Granny', 'Google', 'Golez', 'Gentle', 'Geneva', 'Generic', 'Generally', 'Garnier', 'Galanz', 'Frigid', 'Fridgidare', 'For', 'Foods', 'Fisher', 'Figidaire', 'Dobve', 'Dobe', 'Different', 'Cusimax', 'Countertop', 'Combo', 'Coconut', 'Clarify', 'Chill', 'Changes', 'Castile', 'Caress', 'CONDITIONER', 'CD', 'Burt', 'Burners', 'Bronners', 'Bronner', 'Brommers', 'Bonners', 'Blomberg', 'Big', 'Beko', 'Bees', 'Bedhead', 'Bath', 'Basic', 'Bar', 'BOSCH', 'BODY', 'Avant', 'Also', 'Airfryer', 'ACURE') (3329, 2261, 1844, 1800, 1749, 1749, 1749, 1719, 1703, 1624, 1574, 1529, 1529, 1526, 1521, 1505, 1474, 1449, 1430, 1415, 1345, 1294, 1224, 1176, 1123, 1123, 1088, 986, 986, 979, 953, 947, 920, 918, 902, 902, 863, 858, 858, 858, 731, 731, 703, 696, 684, 671, 671, 671, 641, 632, 632, 632, 632, 601, 539, 538, 538, 538, 528, 527, 512, 512, 483, 482, 482, 469, 462, 456, 451, 437, 435, 432, 410, 389, 388, 374, 367, 364, 362, 340, 336, 333, 325, 325, 325, 321, 310, 310, 306, 302, 301, 301, 280, 280, 278, 278, 278, 275, 270, 266, 265, 239, 238, 234, 184, 184, 179, 177, 169, 169, 166, 165, 155, 149, 148, 148, 148, 143, 137, 132, 132, 130, 130, 130, 130, 129, 129, 123, 122, 119, 118, 118, 117, 115, 114, 113, 113, 112, 112, 111, 109, 108, 108, 108, 103, 100, 96, 95, 95, 95, 95, 93, 91, 89, 89, 89, 86, 86, 80, 79, 79, 76, 76, 76, 73, 72, 71, 70, 68, 67, 62, 60, 57, 57, 57, 57, 57, 56, 56, 56, 53, 50, 50, 49, 49, 49, 48, 48, 48, 46, 45, 45, 45, 45, 43, 42, 42, 41, 40, 40, 40, 38, 38, 37, 37, 37, 36, 35, 34, 34, 33, 32, 31, 31, 30, 30, 28, 27, 27, 26, 24, 24, 23, 23, 22, 22, 20, 20, 19, 18, 18, 18, 17, 17, 15, 15, 15, 15, 14, 14, 14, 14, 14, 13, 13, 13, 13, 12, 12, 11, 11, 11, 11, 10, 10, 10, 10, 10, 9, 9, 8, 8, 7, 7, 7, 7, 7, 7, 7, 6, 6, 6, 6, 6, 6, 6, 6, 6, 6, 6, 5, 5, 5, 4, 4, 4, 4, 4, 4, 4, 4, 4, 4, 4, 3, 3, 3, 3, 3, 3, 3, 3, 3, 3, 3, 3, 3, 3, 3, 3, 3, 3, 3, 3, 3, 3, 3, 3, 3, 3, 3, 3, 3, 3, 3, 3, 3, 3, 2, 2, 2, 2, 2, 2, 2, 2, 2, 2, 2, 2, 2, 2, 2, 2, 2, 2, 2, 2, 2, 2, 2, 2, 2, 2, 2, 2, 2, 2, 2, 2, 2, 2, 2, 2, 2, 2, 2, 2, 2, 2, 2, 2, 2, 2, 1, 1, 1, 1, 1, 1, 1, 1, 1, 1, 1, 1, 1, 1, 1, 1, 1, 1, 1, 1, 1, 1, 1, 1, 1, 1, 1, 1, 1, 1, 1, 1, 1, 1, 1, 1, 1, 1, 1, 1, 1, 1, 1, 1, 1, 1, 1, 1, 1, 1, 1, 1, 1, 1, 1, 1, 1, 1, 1, 1, 1, 1, 1, 1, 1, 1, 1, 1, 1, 1, 1, 1, 1, 1, 1, 1, 1, 1, 1, 1, 1, 1, 1, 1, 1, 1, 1, 1, 1, 1, 1, 1, 1, 1, 1, 1, 1, 1, 1, 1, 1, 1, 1, 1, 1, 1, 1, 1, 1, 1, 1, 1, 1, 1, 1, 1, 1, 1, 1, 1, 1, 1, 1, 1, 1, 1, 1, 1, 1, 1, 1, 1, 1, 1, 1, 1, 1, 1, 1, 1, 1, 1, 1, 1, 1, 1, 1, 1, 1, 1, 1, 1, 1, 1, 1, 1, 1, 1, 1, 1, 1, 1, 1, 1, 1, 1, 1, 1, 1, 1, 1)\n"
          ]
        }
      ]
    },
    {
      "cell_type": "code",
      "source": [
        "l1 = []\n",
        "for j in range(2000):  \n",
        "  a = data.loc[j].at['amenities']\n",
        "  a = a.replace(\", \",\" \")\n",
        "  a = a.replace(\"\\\"\",\"\")\n",
        "  l = a[1:(len(a)-1)].split(\" \")\n",
        "  c = 0\n",
        "  for i in range(len(l)):\n",
        "    if l[i] in new_x:\n",
        "      c += new_y[new_x.index(l[i])]\n",
        "    else:\n",
        "      c += 0\n",
        "  l1.append(round(c/len(l)))\n",
        "print(l1)"
      ],
      "metadata": {
        "colab": {
          "base_uri": "https://localhost:8080/"
        },
        "id": "wIOUe-e_tDB5",
        "outputId": "deffaeb8-22ca-4332-88aa-b4e932d0317a"
      },
      "execution_count": null,
      "outputs": [
        {
          "output_type": "stream",
          "name": "stdout",
          "text": [
            "[961, 992, 1530, 1178, 744, 1503, 1034, 831, 1034, 983, 976, 1007, 1216, 540, 903, 972, 1057, 1165, 976, 567, 1011, 1095, 530, 972, 1230, 1155, 1054, 1166, 1293, 1011, 704, 994, 1034, 1131, 831, 950, 749, 962, 1161, 1160, 1365, 695, 1296, 1010, 801, 1048, 1109, 615, 613, 671, 1242, 865, 1179, 1089, 1176, 814, 639, 1005, 818, 1340, 838, 773, 768, 912, 988, 656, 887, 781, 476, 578, 1425, 1050, 1023, 1092, 1309, 592, 796, 1021, 937, 541, 707, 903, 789, 801, 1192, 1137, 799, 957, 1279, 690, 1519, 980, 969, 1070, 784, 1235, 996, 1075, 1370, 1176, 491, 1333, 975, 1312, 901, 1323, 893, 1455, 1110, 1137, 1159, 1183, 1415, 1489, 1029, 1253, 1378, 1508, 958, 1242, 1628, 858, 1028, 1517, 928, 1708, 980, 841, 1113, 1343, 1118, 1185, 1369, 738, 979, 847, 629, 1053, 1351, 1250, 1122, 1002, 1288, 880, 1252, 886, 1541, 884, 1124, 920, 1103, 1579, 764, 1163, 1257, 1098, 1130, 1343, 1642, 1219, 1125, 917, 943, 887, 652, 1176, 846, 1010, 796, 792, 1081, 764, 922, 1149, 1007, 736, 1104, 1307, 1004, 1540, 991, 783, 916, 1208, 988, 1368, 1423, 943, 968, 605, 1440, 1458, 957, 1201, 1533, 914, 1698, 571, 1224, 1349, 946, 1440, 635, 1473, 1137, 1029, 661, 1107, 1170, 1166, 673, 1526, 852, 1019, 1065, 686, 962, 1215, 823, 818, 1137, 1265, 1144, 1127, 1747, 1223, 1153, 503, 714, 1149, 1025, 1309, 961, 796, 573, 1540, 629, 1063, 1009, 735, 832, 1483, 1296, 1070, 704, 1162, 1214, 1516, 658, 940, 916, 1243, 1289, 1204, 820, 1277, 745, 984, 1032, 965, 1053, 915, 1006, 1077, 1224, 1236, 1076, 663, 874, 957, 1606, 790, 1049, 904, 1347, 744, 1377, 1700, 1057, 1161, 839, 1544, 793, 697, 1379, 1474, 904, 1157, 1079, 464, 882, 942, 1223, 1360, 1339, 1167, 984, 1611, 1158, 1392, 895, 960, 1272, 761, 1247, 1502, 954, 1259, 1103, 847, 1055, 961, 1530, 868, 1006, 1201, 580, 1001, 868, 1109, 1024, 994, 962, 868, 852, 598, 923, 950, 740, 869, 909, 1444, 976, 633, 965, 852, 1355, 1031, 1090, 1048, 705, 820, 799, 1119, 895, 1172, 1068, 822, 1440, 1704, 1327, 1532, 1057, 1135, 1260, 1081, 816, 708, 860, 729, 852, 919, 978, 1057, 734, 1141, 747, 878, 1197, 1341, 648, 1588, 623, 1202, 449, 1423, 826, 1492, 1530, 736, 1399, 591, 774, 957, 719, 910, 849, 1727, 1236, 710, 1146, 659, 1158, 1545, 1317, 1296, 959, 1314, 867, 976, 1163, 921, 973, 973, 934, 1704, 1235, 700, 884, 657, 1259, 1042, 1050, 1380, 700, 1003, 1130, 638, 603, 1024, 963, 1551, 1164, 1157, 871, 1105, 1246, 1303, 882, 1332, 1272, 1550, 755, 618, 1015, 821, 1617, 654, 1176, 1145, 772, 796, 1329, 1168, 1262, 968, 1351, 1171, 1215, 1064, 1175, 922, 844, 1190, 1255, 852, 1071, 1064, 1538, 726, 1022, 936, 1414, 748, 1124, 988, 1576, 869, 811, 1009, 1235, 1444, 1154, 1221, 670, 1147, 1138, 1368, 1550, 1197, 914, 782, 1170, 1022, 1158, 1049, 1238, 671, 812, 1014, 1458, 1112, 595, 1196, 1530, 1086, 1084, 1045, 1278, 1326, 943, 1081, 1678, 551, 805, 1218, 1139, 955, 1077, 1112, 494, 1278, 1479, 1081, 1176, 861, 1294, 754, 1235, 1779, 1015, 1066, 1263, 776, 1344, 648, 667, 1084, 1246, 642, 1275, 1081, 782, 676, 1163, 1530, 1268, 771, 1530, 1372, 941, 817, 791, 774, 869, 1202, 1524, 1442, 1025, 420, 1510, 959, 636, 873, 1397, 942, 760, 1261, 1209, 943, 1477, 1047, 1202, 1364, 778, 843, 796, 1358, 1469, 885, 1116, 1062, 1229, 636, 1135, 1089, 947, 1542, 1150, 1060, 709, 1066, 730, 855, 1041, 581, 931, 1011, 1185, 1440, 1097, 1579, 733, 1345, 1171, 874, 1520, 940, 1248, 1591, 905, 536, 1050, 1302, 1007, 1440, 776, 1019, 1033, 919, 1065, 1392, 1125, 775, 1354, 1205, 1246, 1440, 888, 698, 982, 1149, 974, 1187, 813, 1440, 864, 1036, 880, 953, 1007, 854, 897, 1622, 1698, 1160, 1336, 1285, 1089, 733, 819, 1638, 1231, 1205, 990, 1534, 1580, 557, 1642, 863, 1018, 1540, 884, 1262, 1389, 1506, 672, 1148, 1152, 1336, 728, 1269, 1300, 979, 1382, 827, 1083, 812, 1025, 1453, 786, 769, 878, 842, 966, 795, 571, 905, 1114, 1357, 902, 735, 1077, 1412, 657, 669, 838, 747, 1040, 972, 1088, 713, 1446, 1018, 1341, 675, 716, 682, 1378, 1176, 1100, 1271, 1127, 1116, 821, 648, 981, 798, 1440, 1146, 1008, 1005, 861, 1036, 1215, 1407, 890, 1283, 1119, 1009, 808, 1326, 1145, 1070, 1239, 1176, 821, 1475, 561, 1056, 1121, 1152, 1310, 1327, 1223, 966, 1360, 1524, 958, 1114, 1293, 458, 687, 893, 1419, 1452, 992, 1593, 1208, 1159, 1368, 904, 877, 934, 1118, 840, 1527, 1440, 1058, 854, 1176, 820, 1032, 911, 1476, 1440, 1168, 1227, 964, 1337, 739, 1457, 1642, 1280, 1511, 1490, 1163, 991, 547, 1340, 557, 1483, 728, 1734, 1309, 899, 1071, 1125, 1186, 960, 810, 1321, 684, 642, 629, 1125, 961, 1530, 960, 989, 858, 1112, 926, 1321, 1431, 1504, 1171, 1079, 996, 1097, 742, 829, 793, 1096, 1587, 1223, 990, 1007, 1258, 658, 1265, 1172, 1524, 795, 751, 1354, 1046, 1304, 1045, 907, 680, 758, 999, 1572, 863, 1058, 718, 1169, 1090, 1092, 915, 1208, 913, 1524, 850, 863, 706, 1207, 1614, 1162, 1498, 1242, 1089, 1177, 1015, 724, 1348, 1059, 1171, 888, 1580, 1334, 694, 661, 706, 795, 933, 1412, 864, 710, 693, 1379, 630, 1366, 1329, 1113, 1421, 1329, 1314, 1053, 703, 987, 1158, 1556, 1109, 1168, 1450, 1068, 1242, 1406, 923, 1516, 891, 950, 862, 729, 1065, 1052, 842, 1421, 1638, 837, 920, 1018, 712, 712, 826, 1203, 1554, 550, 1495, 1280, 581, 1481, 1549, 1236, 1483, 1198, 1363, 959, 1051, 1369, 1152, 1537, 596, 1530, 925, 887, 1426, 1512, 840, 649, 1390, 1239, 1312, 832, 868, 842, 850, 528, 1469, 1118, 1089, 1248, 1178, 743, 1257, 808, 1338, 1075, 1412, 1404, 723, 959, 1065, 1766, 739, 1104, 618, 1524, 610, 1569, 935, 860, 854, 884, 1554, 1530, 1365, 1335, 586, 902, 963, 1056, 895, 1419, 753, 617, 1080, 1294, 909, 1313, 1122, 784, 1031, 1200, 1130, 1154, 1675, 1084, 1202, 1377, 887, 1197, 922, 1069, 906, 881, 1177, 1112, 1243, 1353, 879, 819, 1540, 1104, 1055, 1033, 1075, 968, 1760, 800, 1104, 982, 923, 734, 1016, 1227, 1077, 1029, 1189, 1240, 971, 1052, 843, 1103, 1110, 942, 752, 1015, 1033, 1264, 1389, 1085, 1247, 1206, 810, 1059, 1041, 1455, 865, 709, 1423, 952, 1136, 1502, 713, 861, 1076, 1038, 1046, 1173, 1530, 916, 1205, 1068, 1237, 944, 1100, 934, 1285, 1108, 1029, 1013, 1155, 1205, 901, 1832, 1003, 677, 984, 1098, 1220, 827, 1463, 697, 689, 1032, 491, 832, 1093, 1098, 1359, 1087, 1644, 1469, 1703, 1526, 626, 1116, 1096, 1289, 674, 843, 1094, 815, 918, 847, 636, 1540, 874, 1152, 951, 1172, 1299, 461, 1170, 536, 1125, 1410, 888, 1116, 1547, 933, 633, 1399, 1326, 978, 773, 1132, 781, 1538, 1297, 1513, 810, 1414, 1571, 1184, 1021, 649, 614, 1156, 999, 1082, 1355, 978, 900, 1237, 1343, 758, 506, 1510, 1117, 1209, 1173, 1158, 1556, 1283, 1079, 834, 1289, 1004, 1327, 784, 722, 1474, 704, 1344, 1097, 962, 1192, 1576, 1116, 1256, 1529, 859, 1190, 822, 1285, 1110, 1112, 944, 821, 519, 1363, 574, 787, 773, 1565, 544, 764, 656, 1078, 1342, 1348, 635, 520, 1206, 1141, 732, 1310, 1255, 756, 999, 1055, 854, 815, 893, 757, 1176, 977, 870, 1189, 1235, 1193, 1503, 861, 1104, 870, 1265, 1253, 553, 1072, 1383, 920, 1214, 1074, 1051, 972, 882, 1032, 1222, 1179, 633, 1073, 881, 1276, 676, 1231, 1102, 885, 1124, 822, 1264, 1201, 1490, 655, 865, 1118, 1728, 1337, 1419, 799, 1555, 887, 955, 832, 1530, 1047, 1324, 1070, 731, 741, 1419, 1212, 517, 912, 1497, 1077, 1057, 1159, 1061, 1196, 1068, 792, 1373, 1370, 898, 821, 1274, 1522, 1524, 1472, 1186, 1220, 1027, 1020, 1279, 1285, 894, 1076, 1282, 1137, 1220, 802, 1015, 1448, 1611, 1178, 1107, 940, 1252, 583, 810, 674, 955, 1177, 742, 590, 1073, 1028, 1105, 919, 1451, 874, 1463, 765, 975, 903, 1809, 1143, 1357, 651, 1044, 1207, 1050, 1331, 588, 950, 1182, 911, 674, 672, 915, 503, 839, 1319, 1127, 966, 1085, 928, 677, 1196, 1530, 1160, 1046, 692, 1109, 871, 1217, 961, 1040, 1264, 1379, 1147, 1609, 1038, 1072, 1049, 1310, 1580, 765, 1295, 1150, 1415, 1260, 1228, 1227, 1035, 676, 1677, 1013, 1106, 795, 1115, 1222, 1544, 961, 1506, 1123, 1668, 1254, 1125, 965, 1211, 1291, 651, 1054, 998, 1082, 1473, 639, 976, 1230, 1098, 841, 1225, 1782, 676, 1241, 1636, 593, 958, 884, 1153, 1160, 1176, 782, 838, 755, 1446, 1240, 799, 1191, 992, 1176, 1440, 1240, 1447, 658, 909, 776, 796, 1220, 1047, 1241, 819, 1043, 559, 650, 1242, 1325, 1489, 1119, 1279, 1674, 600, 1464, 817, 1547, 913, 535, 862, 758, 927, 1115, 1305, 1337, 1176, 885, 1076, 1109, 968, 1743, 563, 952, 959, 655, 1583, 1113, 1508, 851, 1042, 1108, 1273, 1229, 772, 1279, 739, 1112, 971, 719, 845, 1478, 929, 1045, 1334, 1182, 895, 1190, 1031, 878, 904, 902, 1133, 1464, 1619, 930, 1571, 939, 1258, 891, 663, 721, 916, 877, 865, 1100, 1023, 775, 656, 850, 1240, 921, 1239, 1358, 1017, 830, 1446, 1312, 1083, 1575, 1529, 1100, 1014, 1353, 1053, 983, 587, 1123, 706, 1057, 1131, 1131, 1042, 942, 1176, 625, 1585, 1226, 1075, 653, 1343, 1110, 694, 1144, 1027, 1178, 1290, 670, 1071, 1773, 1698, 831, 561, 1216, 1190, 995, 1513, 676, 939, 1123, 907, 1030, 1329, 1185, 757, 872, 671, 1386, 563, 1440, 1661, 1335, 1175, 1381, 1181, 1236, 1484, 1130, 1007, 615, 1194, 1553, 1524, 1159, 1017, 850, 911, 1273, 590, 1168, 504, 1344, 1158, 1329, 1381, 1440, 1507, 1589, 1125, 1031, 1062, 1351, 1206, 1501, 1474, 702, 772, 1517, 1131, 1176, 745, 603, 1293, 1524, 1288, 711, 1183, 1290, 1180, 1443, 1034, 1518, 1017, 1421, 1176, 1547, 1603, 1104, 1303, 1349, 1199, 1618, 721, 1176, 1503, 1493, 1347, 825, 1358, 1098, 957, 1125, 1050, 1223, 807, 1019, 1414, 717, 1170, 1176, 778, 1141, 844, 1547, 976, 1419, 1262, 1030, 875, 1057, 1120, 557, 612, 1353, 1426, 1091, 1668, 950, 1076, 1149, 1520, 1133, 1329, 875, 1518, 1261, 1530, 1167, 733, 1547, 1377, 1667, 845, 1547, 1036, 1386, 1057, 848, 1304, 697, 638, 1059, 718, 730, 1188, 1176, 1225, 1380, 1326, 1525, 1283, 1144, 1466, 823, 1252, 1391, 876, 783, 1172, 943, 1207, 1028, 1399, 1294, 1454, 959, 1524, 652, 1226, 1403, 1565, 764, 1538, 1440, 924, 1527, 694, 1208, 1095, 1323, 1472, 552, 999, 1497, 1068, 1318, 690, 1209, 1493, 1391, 1269, 1125, 1313, 875, 1007, 1234, 1420, 1438, 1823, 1136, 1400, 1125, 1279, 1085, 1311, 958, 1419, 1206, 1293, 1799, 486, 1098, 639, 1233, 1513, 559, 1141, 968, 1354, 1057, 1345, 1198, 1176, 1555, 1279, 1382, 1427, 1167, 800, 1440, 1746, 998, 1530, 1533, 1263, 1481, 1304, 1125, 1057, 898, 1025, 983, 1290, 1254, 1163, 1387, 1158, 1094, 1530, 1188, 1176, 812, 1667, 1220, 1158, 1524, 573, 1538, 1147, 1521, 1062, 1440, 1301, 1227, 1307, 1032, 1436, 1123, 1218, 1558, 1023, 680, 1057, 805, 1322, 1295, 1057, 1698, 1007, 799, 1440, 1337, 930, 847, 1065, 1101, 882, 1176, 1024, 1176, 951, 1145, 1071, 1209, 891, 1377, 1176, 1547, 1258, 1414, 1121, 1156, 1176, 793, 1058, 1348, 610, 1176, 1176, 890, 1005, 1053, 627, 948, 1528, 865, 1123, 870, 744, 1131, 804, 1033, 1176, 1288, 1175, 1077, 1192, 1208, 1099, 1193, 1265, 1057, 1619, 1007, 692, 730, 1246, 1191, 624, 1053, 930, 1169, 1530, 979, 980, 1092, 1269, 777, 1522, 696, 1228, 946, 1125, 1274, 822, 1174, 1049, 1290, 1551, 1352, 1308, 1034, 1200, 1007, 1285, 1505, 1199, 1125, 1176, 901, 1089, 1176, 948, 1098, 1223, 688, 607, 712, 1160, 1091, 1380, 1135, 1092, 885, 1131, 858, 1186, 705, 1345, 1131, 726, 1533, 871, 1096, 1727, 1298, 694, 1301, 1538, 1158, 1440, 978, 793, 1131, 1430, 958, 987, 807, 1684, 1160, 1113, 858, 593, 1176, 1005, 1051, 1111, 1295, 1376, 871, 1185, 1470, 1108, 671, 1504, 1079, 1209, 1577, 1154, 1066, 1160, 1248, 1360, 1001, 1469, 1328, 1718, 872, 1159, 585, 1366, 658, 1352, 1082, 1203, 1089, 1447, 1550, 994, 1195, 1103, 845, 1171, 1547, 1035, 866, 1365, 1076, 1690, 1832, 1689, 1027, 1289, 971, 784, 726, 1454, 1232]\n"
          ]
        }
      ]
    },
    {
      "cell_type": "code",
      "source": [
        "l2 = []\n",
        "arr = data['neighbourhood_cleansed'].unique()\n",
        "for i in range(200):\n",
        "  a = data.loc[i].at['neighbourhood_cleansed']\n",
        "  l2.append(np.where(arr == a)[0][0]+1)\n",
        "print(data['neighbourhood_cleansed'].unique())\n",
        "print(l2)"
      ],
      "metadata": {
        "colab": {
          "base_uri": "https://localhost:8080/"
        },
        "id": "d3ZcqLJNw5H6",
        "outputId": "7879e1a2-9cdb-46ae-e3d3-2bfbdd76883a"
      },
      "execution_count": null,
      "outputs": [
        {
          "output_type": "stream",
          "name": "stdout",
          "text": [
            "['Kensington' 'Midtown' 'Bedford-Stuyvesant' 'Ridgewood' 'Sunset Park'\n",
            " 'Mott Haven' 'Greenpoint' 'East Village' 'Morningside Heights'\n",
            " 'Upper West Side' 'South Slope' 'Prospect Heights' 'Park Slope'\n",
            " 'Williamsburg' 'Gowanus' 'Upper East Side' 'East Harlem'\n",
            " 'Ditmars Steinway' 'Bushwick' 'Middle Village' 'Fort Greene'\n",
            " 'Crown Heights' 'Harlem' \"Hell's Kitchen\" 'Jamaica' 'Flatbush'\n",
            " 'Clinton Hill' 'Long Island City' 'Chelsea' 'Brooklyn Heights'\n",
            " 'Flatiron District' 'Lower East Side' 'Windsor Terrace' 'Rockaway Beach'\n",
            " 'Chinatown' 'Tribeca' 'Greenwich Village' 'Financial District'\n",
            " 'Washington Heights' 'Kips Bay' 'Clason Point' 'Eastchester'\n",
            " 'Carroll Gardens' 'West Village' 'Forest Hills' 'Murray Hill' 'Nolita'\n",
            " 'Boerum Hill' 'East Flatbush' 'Astoria' 'Sunnyside' 'St. George'\n",
            " 'Kingsbridge' 'Gravesend' 'University Heights' 'Gramercy' 'Allerton'\n",
            " 'Richmond Hill' 'East New York' 'Little Italy' 'SoHo'\n",
            " 'Prospect-Lefferts Gardens' 'Stuyvesant Town' 'Elmhurst' 'Sheepshead Bay'\n",
            " 'Arrochar' 'Emerson Hill' 'Bensonhurst' 'Bayside' 'Theater District'\n",
            " 'Rego Park' 'Shore Acres' 'Woodside' 'Spuyten Duyvil' 'Maspeth'\n",
            " 'Briarwood' 'Battery Park City' 'Two Bridges' 'Fort Hamilton'\n",
            " 'Brighton Beach' 'Cobble Hill' 'Jackson Heights' 'New Springville'\n",
            " 'Longwood' 'Inwood' 'Flushing' 'Tottenville' 'NoHo' 'DUMBO' 'Columbia St'\n",
            " 'Kew Gardens' 'Cypress Hills' 'Mariners Harbor' 'Downtown Brooklyn'\n",
            " 'East Elmhurst' 'College Point' 'Concord' 'Melrose' 'City Island'\n",
            " 'Bay Ridge' 'Red Hook' 'Vinegar Hill' 'Port Morris' 'Glendale'\n",
            " 'Concourse' 'Flatlands' 'Canarsie' 'Arverne' 'Williamsbridge'\n",
            " 'Queens Village' 'Soundview' 'Woodhaven' 'Parkchester' 'Bronxdale'\n",
            " 'Ozone Park' 'Bay Terrace']\n",
            "[1, 2, 3, 4, 5, 6, 7, 2, 8, 7, 7, 9, 10, 11, 12, 3, 13, 14, 7, 15, 16, 17, 18, 8, 17, 3, 14, 19, 20, 4, 21, 20, 7, 14, 22, 23, 3, 13, 3, 24, 23, 22, 22, 25, 23, 17, 3, 11, 14, 3, 26, 27, 14, 8, 21, 28, 23, 29, 15, 3, 18, 3, 30, 29, 14, 14, 24, 7, 31, 14, 3, 7, 17, 24, 21, 32, 23, 14, 33, 34, 29, 23, 12, 3, 32, 4, 27, 8, 27, 14, 7, 35, 8, 36, 8, 37, 17, 17, 10, 8, 23, 38, 39, 23, 23, 16, 8, 10, 2, 21, 29, 40, 21, 8, 23, 8, 22, 14, 23, 7, 14, 41, 23, 10, 3, 23, 14, 42, 29, 13, 43, 3, 8, 44, 23, 13, 3, 14, 8, 14, 22, 8, 10, 23, 22, 24, 15, 11, 22, 23, 8, 3, 45, 24, 46, 8, 47, 16, 14, 14, 14, 21, 3, 13, 27, 22, 14, 23, 43, 32, 24, 8, 8, 44, 48, 13, 49, 13, 27, 8, 15, 27, 17, 14, 23, 10, 8, 14, 17, 23, 50, 44, 44, 14, 14, 10, 7, 48, 10, 16]\n"
          ]
        }
      ]
    },
    {
      "cell_type": "code",
      "source": [
        "l3 = []\n",
        "arr1 = data['neighbourhood_group_cleansed'].unique()\n",
        "print(arr1)\n",
        "for i in range(200):\n",
        "  a = data.loc[i].at['neighbourhood_group_cleansed']\n",
        "  l3.append(np.where(arr1 == a)[0][0]+1)\n",
        "print(l3)"
      ],
      "metadata": {
        "colab": {
          "base_uri": "https://localhost:8080/"
        },
        "id": "tmSudKhdUQsa",
        "outputId": "30287aaa-5443-40fc-f057-0450cbc39140"
      },
      "execution_count": null,
      "outputs": [
        {
          "output_type": "stream",
          "name": "stdout",
          "text": [
            "['Brooklyn' 'Manhattan' 'Queens' 'Bronx' 'Staten Island']\n",
            "[1, 2, 1, 3, 1, 4, 1, 2, 2, 1, 1, 2, 2, 1, 1, 1, 1, 1, 1, 1, 2, 2, 3, 2, 2, 1, 1, 1, 3, 3, 1, 3, 1, 1, 1, 2, 1, 1, 1, 2, 2, 1, 1, 3, 2, 2, 1, 1, 1, 1, 1, 1, 1, 2, 1, 3, 2, 2, 1, 1, 3, 1, 1, 2, 1, 1, 2, 1, 2, 1, 1, 1, 2, 2, 1, 2, 2, 1, 1, 3, 2, 2, 1, 1, 2, 3, 1, 2, 1, 1, 1, 2, 2, 2, 2, 2, 2, 2, 2, 2, 2, 2, 2, 2, 2, 2, 2, 2, 2, 1, 2, 2, 1, 2, 2, 2, 1, 1, 2, 1, 1, 4, 2, 2, 1, 2, 1, 4, 2, 1, 1, 1, 2, 2, 2, 1, 1, 1, 2, 1, 1, 2, 2, 2, 1, 2, 1, 1, 1, 2, 2, 1, 3, 2, 2, 2, 2, 2, 1, 1, 1, 1, 1, 1, 1, 1, 1, 2, 1, 2, 2, 2, 2, 2, 1, 1, 1, 1, 1, 2, 1, 1, 2, 1, 2, 2, 2, 1, 2, 2, 3, 2, 2, 1, 1, 2, 1, 1, 2, 2]\n"
          ]
        }
      ]
    },
    {
      "cell_type": "code",
      "source": [
        "data = data.head(2000)\n",
        "data['amenities_score'] = l1\n",
        "print(data['amenities_score'].head(100))"
      ],
      "metadata": {
        "colab": {
          "base_uri": "https://localhost:8080/"
        },
        "id": "Z3ldm3qWWrME",
        "outputId": "a7b90471-0f13-42a7-d846-37ed2281175b"
      },
      "execution_count": null,
      "outputs": [
        {
          "output_type": "stream",
          "name": "stdout",
          "text": [
            "0      961\n",
            "1      992\n",
            "2     1530\n",
            "3     1178\n",
            "4      744\n",
            "      ... \n",
            "95    1235\n",
            "96     996\n",
            "97    1075\n",
            "98    1370\n",
            "99    1176\n",
            "Name: amenities_score, Length: 100, dtype: int64\n"
          ]
        },
        {
          "output_type": "stream",
          "name": "stderr",
          "text": [
            "<ipython-input-27-672c7129ab04>:2: SettingWithCopyWarning: \n",
            "A value is trying to be set on a copy of a slice from a DataFrame.\n",
            "Try using .loc[row_indexer,col_indexer] = value instead\n",
            "\n",
            "See the caveats in the documentation: https://pandas.pydata.org/pandas-docs/stable/user_guide/indexing.html#returning-a-view-versus-a-copy\n",
            "  data['amenities_score'] = l1\n"
          ]
        }
      ]
    },
    {
      "cell_type": "code",
      "source": [
        "df = data[['neighbourhood_cleansed','neighbourhood_group_cleansed','price']]\n",
        "print(df.head(100))"
      ],
      "metadata": {
        "colab": {
          "base_uri": "https://localhost:8080/"
        },
        "id": "oEHUOA4JbZDS",
        "outputId": "92c32b88-544d-47d2-ea64-17b53d7fad7d"
      },
      "execution_count": null,
      "outputs": [
        {
          "output_type": "stream",
          "name": "stdout",
          "text": [
            "   neighbourhood_cleansed neighbourhood_group_cleansed    price\n",
            "0              Kensington                     Brooklyn  $299.00\n",
            "1                 Midtown                    Manhattan  $175.00\n",
            "2      Bedford-Stuyvesant                     Brooklyn   $60.00\n",
            "3               Ridgewood                       Queens  $425.00\n",
            "4             Sunset Park                     Brooklyn  $275.00\n",
            "..                    ...                          ...      ...\n",
            "95      Greenwich Village                    Manhattan  $250.00\n",
            "96            East Harlem                    Manhattan  $300.00\n",
            "97            East Harlem                    Manhattan  $110.00\n",
            "98        Upper West Side                    Manhattan  $166.00\n",
            "99           East Village                    Manhattan  $220.00\n",
            "\n",
            "[100 rows x 3 columns]\n"
          ]
        }
      ]
    },
    {
      "cell_type": "code",
      "source": [
        "data = data[['amenities','neighbourhood_cleansed','neighbourhood_group_cleansed','price']]\n",
        "print(data.loc[69])"
      ],
      "metadata": {
        "colab": {
          "base_uri": "https://localhost:8080/"
        },
        "id": "LPTIl8Yk3xm8",
        "outputId": "deb251ed-d249-447b-d0b2-be48a3b3690d"
      },
      "execution_count": null,
      "outputs": [
        {
          "output_type": "stream",
          "name": "stdout",
          "text": [
            "amenities                       [\"Mosquito net\", \"First aid kit\", \"Eucerin  sh...\n",
            "neighbourhood_cleansed                                               Williamsburg\n",
            "neighbourhood_group_cleansed                                             Brooklyn\n",
            "price                                                                     $395.00\n",
            "Name: 69, dtype: object\n"
          ]
        }
      ]
    }
  ]
}